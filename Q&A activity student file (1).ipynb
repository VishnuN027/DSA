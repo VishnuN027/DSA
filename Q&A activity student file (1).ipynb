{
 "cells": [
  {
   "cell_type": "markdown",
   "metadata": {},
   "source": [
    "## 1. Complete the following code to find the area of an equilateral triangle. Output should be as displayed"
   ]
  },
  {
   "cell_type": "code",
   "execution_count": 2,
   "metadata": {},
   "outputs": [
    {
     "name": "stdout",
     "output_type": "stream",
     "text": [
      "Enter the side of the equilateral triangle: 5\n",
      "The area of equlateral triangle is 10.825317547305483\n"
     ]
    }
   ],
   "source": [
    "import math\n",
    "side = float(input(\"Enter the side of the equilateral triangle: \"))\n",
    "area = ((math.sqrt(3))/4)*pow(side,2)\n",
    "print(\"The area of equlateral triangle is\",area)"
   ]
  },
  {
   "cell_type": "markdown",
   "metadata": {},
   "source": [
    "## 2. Write a program to count the number of each characters in a string"
   ]
  },
  {
   "cell_type": "code",
   "execution_count": 2,
   "metadata": {},
   "outputs": [
    {
     "name": "stdout",
     "output_type": "stream",
     "text": [
      "Enter THE STRING:\n",
      "PYTHON PROGRAMMING \n",
      "17\n"
     ]
    }
   ],
   "source": [
    "count=0\n",
    "chara=input(\"Enter THE STRING:\\n\")\n",
    "for i in chara:\n",
    "    if i==\" \":\n",
    "     continue\n",
    "    count+=1\n",
    "print(count) "
   ]
  },
  {
   "cell_type": "markdown",
   "metadata": {},
   "source": [
    "## 3. Write a program to find the area and perimeter of a rectangle using functions"
   ]
  },
  {
   "cell_type": "code",
   "execution_count": 7,
   "metadata": {},
   "outputs": [
    {
     "name": "stdout",
     "output_type": "stream",
     "text": [
      "Enter length:5\n",
      "Enter bredth:8\n",
      "perimeter of rectangle 26\n",
      "Area of rectangle 40\n"
     ]
    }
   ],
   "source": [
    "def perimeter(l,b):\n",
    "    return(2*(l+b))\n",
    "    \n",
    "def Area(l,b):\n",
    "    return(l*b)\n",
    "    \n",
    "l=int(input(\"Enter length:\"))\n",
    "b=int(input(\"Enter bredth:\"))\n",
    "\n",
    "print(\"perimeter of rectangle\",perimeter(l,b))\n",
    "print(\"Area of rectangle\",Area(l,b))"
   ]
  },
  {
   "cell_type": "markdown",
   "metadata": {},
   "source": [
    "## 4. Write a program to print the fibonacci series till a specified number"
   ]
  },
  {
   "cell_type": "code",
   "execution_count": 12,
   "metadata": {},
   "outputs": [
    {
     "name": "stdout",
     "output_type": "stream",
     "text": [
      "Enter the fibanacci number:8\n",
      "0\n",
      "1\n",
      "1\n",
      "2\n",
      "3\n",
      "5\n",
      "8\n",
      "13\n"
     ]
    }
   ],
   "source": [
    "num=int(input(\"Enter the fibanacci number:\"))\n",
    "if num>0:\n",
    "  a=0\n",
    "  b=1\n",
    "  print(a)\n",
    "  print(b)\n",
    "  for i in range(0,num-2):\n",
    "    sum=a+b\n",
    "    a=b\n",
    "    b=sum\n",
    "    print(sum)"
   ]
  },
  {
   "cell_type": "markdown",
   "metadata": {},
   "source": [
    "## 5. Complete the following code to find the minimum of 3 number using conditional statements. Output should be as displayed"
   ]
  },
  {
   "cell_type": "code",
   "execution_count": 5,
   "metadata": {},
   "outputs": [
    {
     "name": "stdout",
     "output_type": "stream",
     "text": [
      "Enter three numbers followed by  : 4 8 7\n",
      "First number : 4\n",
      "Second number : 8\n",
      "Third number : 7\n",
      "4  is smallest\n"
     ]
    }
   ],
   "source": [
    "a,b,c = input(\"Enter three numbers followed by  : \").split()\n",
    "\n",
    "print(\"First number :\",a)\n",
    "print(\"Second number :\",b)\n",
    "print(\"Third number :\",c)\n",
    "\n",
    "if a==b==c: \n",
    "    print(\"Entered numbers are equal!!!\")\n",
    "elif a<b and a<c:\n",
    "    print(a,\" is smallest\")\n",
    "elif b<a and b<c:\n",
    "    print(b,\" is smallest\")\n",
    "else:\n",
    "    print(c,\" is smallest\")"
   ]
  },
  {
   "cell_type": "markdown",
   "metadata": {},
   "source": [
    "## 6. Write a program to print star pyramind. The number of rows should be taken as input from the user"
   ]
  },
  {
   "cell_type": "code",
   "execution_count": 24,
   "metadata": {},
   "outputs": [
    {
     "name": "stdout",
     "output_type": "stream",
     "text": [
      "Enter the number: 5\n",
      "    * \n",
      "   * * \n",
      "  * * * \n",
      " * * * * \n",
      "* * * * * \n"
     ]
    }
   ],
   "source": [
    "n=int(input(\"Enter the number: \"))\n",
    "m=n-1\n",
    "\n",
    "for i in range(0,n):\n",
    "    for j in range(0,m):\n",
    "        print(end=\" \")\n",
    "    m=m-1\n",
    "    for j in range(0,i+1):\n",
    "        print(\"*\",end=\" \")\n",
    "    print(\"\\r\")\n",
    "    "
   ]
  },
  {
   "cell_type": "markdown",
   "metadata": {},
   "source": [
    "## 7. Complete the following code to convert hour into seconds. Output should be as displayed"
   ]
  },
  {
   "cell_type": "code",
   "execution_count": 27,
   "metadata": {},
   "outputs": [
    {
     "name": "stdout",
     "output_type": "stream",
     "text": [
      "Enter time in Hours:10\n",
      "10  Hour is equal to 36000  Seconds\n"
     ]
    }
   ],
   "source": [
    "def to_seconds(t):\n",
    "    t=((60*60)*time_in_hours)\n",
    "    \n",
    "    return t\n",
    "time_in_hours =int(input(\"Enter time in Hours:\")) \n",
    "print(time_in_hours ,\" Hour is equal to\" ,to_seconds(time_in_hours) ,\" Seconds\")"
   ]
  },
  {
   "cell_type": "markdown",
   "metadata": {},
   "source": [
    "## 8. Write a program to print multiplication table as below"
   ]
  },
  {
   "cell_type": "code",
   "execution_count": 1,
   "metadata": {},
   "outputs": [
    {
     "name": "stdout",
     "output_type": "stream",
     "text": [
      "print multiplication table of enter the number :6\n",
      "1 * 6 = 6\n",
      "2 * 6 = 12\n",
      "3 * 6 = 18\n",
      "4 * 6 = 24\n",
      "5 * 6 = 30\n",
      "6 * 6 = 36\n",
      "7 * 6 = 42\n",
      "8 * 6 = 48\n",
      "9 * 6 = 54\n",
      "10 * 6 = 60\n"
     ]
    }
   ],
   "source": [
    "n=int(input(\"print multiplication table of enter the number :\"))\n",
    "for i in range(1,11):\n",
    "     print(i, \"*\",n,\"=\",i*n)"
   ]
  },
  {
   "cell_type": "markdown",
   "metadata": {},
   "source": [
    "## 9. Write a program to take your 5 favorite food as list and print each as 'I like Biriyani'"
   ]
  },
  {
   "cell_type": "code",
   "execution_count": 3,
   "metadata": {},
   "outputs": [
    {
     "name": "stdout",
     "output_type": "stream",
     "text": [
      "eneter your favourate food :Biriyani\n",
      "eneter your favourate food :porrota\n",
      "eneter your favourate food :pizza\n",
      "eneter your favourate food :pasta \n",
      "eneter your favourate food :cakes \n",
      "['Biriyani', 'porrota', 'pizza', 'pasta ', 'cakes ']\n",
      "I like Biriyani\n",
      "I like porrota\n",
      "I like pizza\n",
      "I like pasta \n",
      "I like cakes \n"
     ]
    }
   ],
   "source": [
    "food=[]\n",
    "for i in range(0,5):\n",
    "    item=input(\"eneter your favourate food :\")\n",
    "    food.append(item)\n",
    "print(food)\n",
    "for j in food:\n",
    "    print(\"I like\",j)"
   ]
  }
 ],
 "metadata": {
  "kernelspec": {
   "display_name": "Python 3 (ipykernel)",
   "language": "python",
   "name": "python3"
  },
  "language_info": {
   "codemirror_mode": {
    "name": "ipython",
    "version": 3
   },
   "file_extension": ".py",
   "mimetype": "text/x-python",
   "name": "python",
   "nbconvert_exporter": "python",
   "pygments_lexer": "ipython3",
   "version": "3.9.7"
  }
 },
 "nbformat": 4,
 "nbformat_minor": 4
}
