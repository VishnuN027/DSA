{
 "cells": [
  {
   "cell_type": "markdown",
   "id": "963fd8e1",
   "metadata": {},
   "source": [
    "# Find out how many countries are there in the dataset"
   ]
  },
  {
   "cell_type": "code",
   "execution_count": 1,
   "id": "ce2d9710",
   "metadata": {},
   "outputs": [],
   "source": [
    "import numpy as np\n",
    "import pandas as pd\n",
    "import matplotlib.pyplot as plt\n",
    "import seaborn as sns"
   ]
  },
  {
   "cell_type": "code",
   "execution_count": 2,
   "id": "287a1f5a",
   "metadata": {},
   "outputs": [],
   "source": [
    "data = pd.read_excel('Dataset_w6.xlsx')\n",
    "a = data['country'].count()"
   ]
  },
  {
   "cell_type": "code",
   "execution_count": 3,
   "id": "17b395c0",
   "metadata": {},
   "outputs": [
    {
     "name": "stdout",
     "output_type": "stream",
     "text": [
      "Number of countries: 196\n"
     ]
    }
   ],
   "source": [
    "print('Number of countries:',a)"
   ]
  },
  {
   "cell_type": "markdown",
   "id": "16f84765",
   "metadata": {},
   "source": [
    "# Examine the data by using visualizations."
   ]
  },
  {
   "cell_type": "code",
   "execution_count": 4,
   "id": "fa83e667",
   "metadata": {},
   "outputs": [],
   "source": [
    "data1 = data.nlargest(5, 'Population in thousands (2017)').reset_index(drop=True)"
   ]
  },
  {
   "cell_type": "code",
   "execution_count": 5,
   "id": "471cacc8",
   "metadata": {},
   "outputs": [
    {
     "data": {
      "text/plain": [
       "Text(0.5, 1.0, 'Top 5 Highest Population Countries')"
      ]
     },
     "execution_count": 5,
     "metadata": {},
     "output_type": "execute_result"
    },
    {
     "data": {
      "text/plain": [
       "<Figure size 1008x864 with 0 Axes>"
      ]
     },
     "metadata": {},
     "output_type": "display_data"
    },
    {
     "data": {
      "image/png": "[encoded data removed]",
      "text/plain": [
       "<Figure size 432x288 with 1 Axes>"
      ]
     },
     "metadata": {
      "needs_background": "light"
     },
     "output_type": "display_data"
    }
   ],
   "source": [
    "plt.figure(figsize=(14,12))\n",
    "data1.plot(x=\"country\", y='Population in thousands (2017)',kind='bar')\n",
    "plt.title('Top 5 Highest Population Countries',fontsize=16)"
   ]
  },
  {
   "cell_type": "markdown",
   "id": "c8fdf05b",
   "metadata": {},
   "source": [
    "# Find out how many countries with respect to the region are available in the dataset"
   ]
  },
  {
   "cell_type": "code",
   "execution_count": 6,
   "id": "ed90f4b6",
   "metadata": {},
   "outputs": [
    {
     "data": {
      "text/plain": [
       "WesternAsia          18\n",
       "EasternAfrica        17\n",
       "Caribbean            16\n",
       "WesternAfrica        15\n",
       "SouthAmerica         12\n",
       "SouthernEurope       12\n",
       "South-easternAsia    11\n",
       "EasternEurope        10\n",
       "NorthernEurope       10\n",
       "SouthernAsia          9\n",
       "MiddleAfrica          9\n",
       "CentralAmerica        8\n",
       "WesternEurope         7\n",
       "EasternAsia           7\n",
       "SouthernAfrica        5\n",
       "Polynesia             5\n",
       "NorthernAfrica        5\n",
       "Melanesia             5\n",
       "CentralAsia           5\n",
       "NorthernAmerica       4\n",
       "Micronesia            4\n",
       "Oceania               2\n",
       "Name: Region, dtype: int64"
      ]
     },
     "execution_count": 6,
     "metadata": {},
     "output_type": "execute_result"
    }
   ],
   "source": [
    "data['Region'].value_counts()"
   ]
  },
  {
   "cell_type": "markdown",
   "id": "920ccb11",
   "metadata": {},
   "source": [
    "# On average which region has the highest"
   ]
  },
  {
   "cell_type": "code",
   "execution_count": 8,
   "id": "a925f3d4",
   "metadata": {},
   "outputs": [],
   "source": [
    "# GDP per capita (current US$)"
   ]
  },
  {
   "cell_type": "code",
   "execution_count": 9,
   "id": "bd7f5b99",
   "metadata": {},
   "outputs": [
    {
     "data": {
      "text/plain": [
       "Region\n",
       "NorthernAmerica    57659.0\n",
       "Name: GDP per capita (current US$), dtype: float64"
      ]
     },
     "execution_count": 9,
     "metadata": {},
     "output_type": "execute_result"
    }
   ],
   "source": [
    "high = data.groupby('Region')['GDP per capita (current US$)'].mean() \n",
    "high.nlargest(1)"
   ]
  },
  {
   "cell_type": "code",
   "execution_count": 10,
   "id": "6c1b2fff",
   "metadata": {},
   "outputs": [],
   "source": [
    "#International trade: Imports (million US$)"
   ]
  },
  {
   "cell_type": "code",
   "execution_count": 11,
   "id": "63313235",
   "metadata": {},
   "outputs": [
    {
     "data": {
      "text/plain": [
       "Region\n",
       "NorthernAmerica    663552.25\n",
       "Name: International trade: Imports (million US$), dtype: float64"
      ]
     },
     "execution_count": 11,
     "metadata": {},
     "output_type": "execute_result"
    }
   ],
   "source": [
    "high1 = data.groupby('Region')['International trade: Imports (million US$)'].mean() \n",
    "high1.nlargest(1)"
   ]
  },
  {
   "cell_type": "markdown",
   "id": "c031394f",
   "metadata": {},
   "source": [
    "# Find out which region has more consistent with respect to GDP per capita (current US$)"
   ]
  },
  {
   "cell_type": "code",
   "execution_count": 12,
   "id": "f4b775a7",
   "metadata": {},
   "outputs": [
    {
     "name": "stdout",
     "output_type": "stream",
     "text": [
      "Region has more consistent with respect to GDP percapita (current US$) is:\n"
     ]
    },
    {
     "data": {
      "text/plain": [
       "Region\n",
       "WesternAfrica    815.095399\n",
       "Name: GDP per capita (current US$), dtype: float64"
      ]
     },
     "execution_count": 12,
     "metadata": {},
     "output_type": "execute_result"
    }
   ],
   "source": [
    "cons = data.groupby('Region')['GDP per capita (current US$)'].std() \n",
    "print(\"Region has more consistent with respect to GDP percapita (current US$) is:\")\n",
    "cons.nsmallest(1)"
   ]
  },
  {
   "cell_type": "code",
   "execution_count": null,
   "id": "a5e125f3",
   "metadata": {},
   "outputs": [],
   "source": []
  }
 ],
 "metadata": {
  "kernelspec": {
   "display_name": "Python 3 (ipykernel)",
   "language": "python",
   "name": "python3"
  },
  "language_info": {
   "codemirror_mode": {
    "name": "ipython",
    "version": 3
   },
   "file_extension": ".py",
   "mimetype": "text/x-python",
   "name": "python",
   "nbconvert_exporter": "python",
   "pygments_lexer": "ipython3",
   "version": "3.9.7"
  }
 },
 "nbformat": 4,
 "nbformat_minor": 5
}
